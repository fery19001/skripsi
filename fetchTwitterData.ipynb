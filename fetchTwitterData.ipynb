{
 "cells": [
  {
   "cell_type": "code",
   "execution_count": 1,
   "id": "9dd7958d-66c6-4073-96ee-fde38d087e1c",
   "metadata": {},
   "outputs": [],
   "source": [
    "from searchtweets import ResultStream, gen_request_parameters, load_credentials\n",
    "import json\n"
   ]
  },
  {
   "cell_type": "code",
   "execution_count": 2,
   "id": "fbdf5198-3f43-4a6a-9395-59a1a1f3fdc9",
   "metadata": {},
   "outputs": [],
   "source": [
    "search_args = load_credentials(filename='./twitter_keys.yaml',\n",
    "                 yaml_key='search_tweets_v2',\n",
    "                 env_overwrite=False)"
   ]
  },
  {
   "cell_type": "code",
   "execution_count": 1,
   "id": "9d502871-2081-4d8a-ba67-129440efd56b",
   "metadata": {},
   "outputs": [],
   "source": [
    "print(search_args)"
   ]
  },
  {
   "cell_type": "code",
   "execution_count": 15,
   "id": "6a6f6df2-751e-4c12-b03d-2b581511f9b4",
   "metadata": {},
   "outputs": [],
   "source": [
    "query = gen_request_parameters(query='(phk OR layoff OR (tech layoff) OR (tech winter) OR (pemutusan hubungan kerja) OR (startup layoff) OR (startup phk) OR #phk OR #layoff OR #layoffs OR #techwinter) lang:id',\n",
    "                               results_per_call=500,\n",
    "                               granularity=None,\n",
    "                               start_time='2023-01-29',\n",
    "                               end_time='2023-03-31',\n",
    "                               expansions='author_id,geo.place_id',\n",
    "                               tweet_fields='id,text,created_at,entities,in_reply_to_user_id,lang,public_metrics,referenced_tweets',\n",
    "                               user_fields='id,name,username,created_at,location,public_metrics,verified',\n",
    "                               place_fields='full_name,id,country,country_code,name,place_type')"
   ]
  },
  {
   "cell_type": "code",
   "execution_count": 16,
   "id": "3c861f86-0d21-49ec-9273-e7ee6f1b3bba",
   "metadata": {},
   "outputs": [
    {
     "name": "stdout",
     "output_type": "stream",
     "text": [
      "{\"query\": \"(phk OR layoff OR (tech layoff) OR (tech winter) OR (pemutusan hubungan kerja) OR (startup layoff) OR (startup phk) OR #phk OR #layoff OR #layoffs OR #techwinter) lang:id\", \"start_time\": \"2023-01-29T00:00:00Z\", \"end_time\": \"2023-03-31T00:00:00Z\", \"max_results\": 500, \"tweet.fields\": \"id,text,created_at,entities,in_reply_to_user_id,lang,public_metrics,referenced_tweets\", \"user.fields\": \"id,name,username,created_at,location,public_metrics,verified\", \"place.fields\": \"full_name,id,country,country_code,name,place_type\", \"expansions\": \"author_id,geo.place_id\"}\n"
     ]
    }
   ],
   "source": [
    "print(query)"
   ]
  },
  {
   "cell_type": "code",
   "execution_count": 17,
   "id": "cf2743c2-7609-4aba-a6ea-61de971202a8",
   "metadata": {},
   "outputs": [],
   "source": [
    "rs = ResultStream(request_parameters=query, max_tweets=145000, max_requests=295, **search_args)\n",
    "tweets1 = list(rs.stream())"
   ]
  },
  {
   "cell_type": "code",
   "execution_count": 394,
   "id": "a5365169-7492-4ec8-b235-d7e95394bc8a",
   "metadata": {},
   "outputs": [],
   "source": [
    "rs2 = ResultStream(request_parameters=query, max_tweets=145000, max_requests=295, **search_args)\n",
    "tweets2 = list(rs2.stream())"
   ]
  },
  {
   "cell_type": "code",
   "execution_count": 6,
   "id": "2f83d8dd-2a9a-4ddf-ae49-d3f7a7488001",
   "metadata": {},
   "outputs": [],
   "source": [
    "rs3 = ResultStream(request_parameters=query, max_tweets=145000, max_requests=295, **search_args)\n",
    "tweets3 = list(rs3.stream())"
   ]
  },
  {
   "cell_type": "code",
   "execution_count": 18,
   "id": "18d3e6af-404a-4345-b916-b3acbcd1e1b5",
   "metadata": {},
   "outputs": [],
   "source": [
    "list_of_tweets1 = []\n",
    "for i in range (0, len(tweets1)-1):\n",
    "    for j in range (0, len(tweets1[i]['data'])-1):\n",
    "        list_of_tweets1.append(tweets1[i]['data'][j])"
   ]
  },
  {
   "cell_type": "code",
   "execution_count": 19,
   "id": "e72a9ae4-2c19-491f-b3ea-d8cb64409a06",
   "metadata": {},
   "outputs": [
    {
     "data": {
      "text/plain": [
       "30036"
      ]
     },
     "execution_count": 19,
     "metadata": {},
     "output_type": "execute_result"
    }
   ],
   "source": [
    "len(list_of_tweets1)"
   ]
  },
  {
   "cell_type": "code",
   "execution_count": 20,
   "id": "7b6eb6ae-1f15-48ff-a480-4554639a39ec",
   "metadata": {},
   "outputs": [],
   "source": [
    "list_of_users1 = []\n",
    "for i in range (0, len(tweets1)-1):\n",
    "    for j in range (0, len(tweets1[i]['includes']['users'])-1):\n",
    "        list_of_users1.append(tweets1[i]['includes']['users'][j])\n",
    "        \n",
    "list_of_places1 = []\n",
    "for i in range (0, len(tweets1)-1):\n",
    "    if 'places' in list(tweets1[i]['includes'].keys()):\n",
    "        for j in range (0, len(tweets1[i]['includes']['places'])-1):\n",
    "            list_of_places1.append(tweets1[i]['includes']['places'][j])\n",
    "    else: continue"
   ]
  },
  {
   "cell_type": "code",
   "execution_count": 21,
   "id": "5bc3b39c-8032-4bca-ae7f-4a269e928bd5",
   "metadata": {},
   "outputs": [],
   "source": [
    "lou1_not_dupl = list({ each['id'] : each for each in list_of_users1 }.values())\n",
    "lop1_not_dupl = list({ each['id'] : each for each in list_of_places1 }.values())"
   ]
  },
  {
   "cell_type": "code",
   "execution_count": 22,
   "id": "8aff9477-4ee6-40d9-9e13-865262202976",
   "metadata": {},
   "outputs": [
    {
     "data": {
      "text/plain": [
       "('2023-03-30T23:56:59.000Z', '2023-01-29T23:43:40.000Z')"
      ]
     },
     "execution_count": 22,
     "metadata": {},
     "output_type": "execute_result"
    }
   ],
   "source": [
    "list_of_tweets1[0]['created_at'], list_of_tweets1[-1]['created_at']"
   ]
  },
  {
   "cell_type": "code",
   "execution_count": 395,
   "id": "cfed5b14-6174-4931-b285-dfee9a7c222f",
   "metadata": {},
   "outputs": [],
   "source": [
    "list_of_tweets2 = []\n",
    "for i in range (0, len(tweets2)-1):\n",
    "    for j in range (0, len(tweets2[i]['data'])-1):\n",
    "        list_of_tweets2.append(tweets2[i]['data'][j])"
   ]
  },
  {
   "cell_type": "code",
   "execution_count": 396,
   "id": "1d851996-c63f-4ee7-bb12-eed9123612c7",
   "metadata": {},
   "outputs": [
    {
     "data": {
      "text/plain": [
       "50366"
      ]
     },
     "execution_count": 396,
     "metadata": {},
     "output_type": "execute_result"
    }
   ],
   "source": [
    "len(list_of_tweets2)"
   ]
  },
  {
   "cell_type": "code",
   "execution_count": 397,
   "id": "c0353a0f-3f1b-4ec1-bf29-92537cda2f0d",
   "metadata": {},
   "outputs": [
    {
     "data": {
      "text/plain": [
       "('2023-01-28T12:00:09.000Z', '2022-12-01T07:16:10.000Z')"
      ]
     },
     "execution_count": 397,
     "metadata": {},
     "output_type": "execute_result"
    }
   ],
   "source": [
    "list_of_tweets2[0]['created_at'], list_of_tweets2[-1]['created_at']"
   ]
  },
  {
   "cell_type": "code",
   "execution_count": 398,
   "id": "9be687aa-04fa-4842-8430-f3346a03b731",
   "metadata": {},
   "outputs": [],
   "source": [
    "list_of_users2 = []\n",
    "for i in range (0, len(tweets2)-1):\n",
    "    for j in range (0, len(tweets2[i]['includes']['users'])-1):\n",
    "        list_of_users2.append(tweets2[i]['includes']['users'][j])\n",
    "        \n",
    "list_of_places2 = []\n",
    "for i in range (0, len(tweets2)-1):\n",
    "    if 'places' in list(tweets2[i]['includes'].keys()):\n",
    "        for j in range (0, len(tweets2[i]['includes']['places'])-1):\n",
    "            list_of_places2.append(tweets2[i]['includes']['places'][j])\n",
    "    else: continue"
   ]
  },
  {
   "cell_type": "code",
   "execution_count": 7,
   "id": "aab428c7-262c-42b0-8e73-2f21270374c3",
   "metadata": {},
   "outputs": [],
   "source": [
    "list_of_tweets3 = []\n",
    "for i in range (0, len(tweets3)-1):\n",
    "    for j in range (0, len(tweets3[i]['data'])-1):\n",
    "        list_of_tweets3.append(tweets3[i]['data'][j])\n",
    "        \n",
    "list_of_users3 = []\n",
    "for i in range (0, len(tweets3)-1):\n",
    "    for j in range (0, len(tweets3[i]['includes']['users'])-1):\n",
    "        list_of_users3.append(tweets3[i]['includes']['users'][j])\n",
    "        \n",
    "list_of_places3 = []\n",
    "for i in range (0, len(tweets3)-1):\n",
    "    if 'places' in list(tweets3[i]['includes'].keys()):\n",
    "        for j in range (0, len(tweets3[i]['includes']['places'])-1):\n",
    "            list_of_places3.append(tweets3[i]['includes']['places'][j])\n",
    "    else: continue\n",
    "    \n",
    "lou3_not_dupl = list({ each['id'] : each for each in list_of_users3 }.values())\n",
    "lop3_not_dupl = list({ each['id'] : each for each in list_of_places3 }.values())"
   ]
  },
  {
   "cell_type": "code",
   "execution_count": 10,
   "id": "e9dd28cb-646e-4f73-9474-2d4c5753f567",
   "metadata": {},
   "outputs": [
    {
     "data": {
      "text/plain": [
       "(59952, 43340, 117)"
      ]
     },
     "execution_count": 10,
     "metadata": {},
     "output_type": "execute_result"
    }
   ],
   "source": [
    "len(list_of_tweets3), len(lou3_not_dupl), len(lop3_not_dupl)"
   ]
  },
  {
   "cell_type": "code",
   "execution_count": 399,
   "id": "1a2ca590-8ca0-4f68-ab1b-69a19b57cc70",
   "metadata": {},
   "outputs": [],
   "source": [
    "lou2_not_dupl = list({ each['id'] : each for each in list_of_users2 }.values())\n",
    "lop2_not_dupl = list({ each['id'] : each for each in list_of_places2 }.values())"
   ]
  },
  {
   "cell_type": "code",
   "execution_count": 23,
   "id": "1d62a07b-72d1-47f5-b4c9-bb66fcc30652",
   "metadata": {},
   "outputs": [],
   "source": [
    "with open(\"tweets_data_feb23_mar23.json\", \"w\") as write_file:\n",
    "    json.dump(list_of_tweets1, write_file, indent=4)"
   ]
  },
  {
   "cell_type": "code",
   "execution_count": 24,
   "id": "78e14bd6-c077-4ce4-9584-56583b9cfa2a",
   "metadata": {},
   "outputs": [],
   "source": [
    "with open(\"users_data_feb23_mar23.json\", \"w\") as write_users:\n",
    "    json.dump(lou1_not_dupl, write_users, indent=4)\n",
    "    \n",
    "with open(\"places_feb23_mar23.json\", \"w\") as write_places:\n",
    "    json.dump(lop1_not_dupl, write_places, indent=4)"
   ]
  },
  {
   "cell_type": "code",
   "execution_count": 414,
   "id": "7188392c-2de8-4cce-9551-2afcaed73fa4",
   "metadata": {},
   "outputs": [],
   "source": [
    "tweets = list_of_tweets1 + list_of_tweets2\n",
    "users = list({ each['id'] : each for each in (lou1_not_dupl + lou2_not_dupl) }.values())\n",
    "places = list({ each['id'] : each for each in (lop1_not_dupl + lop2_not_dupl) }.values())"
   ]
  },
  {
   "cell_type": "code",
   "execution_count": null,
   "id": "f6a16e38-b011-4011-b574-af4a71b446ac",
   "metadata": {},
   "outputs": [],
   "source": []
  },
  {
   "cell_type": "code",
   "execution_count": 415,
   "id": "ca8914ec-ddd6-4671-b574-0bb4578a4f32",
   "metadata": {},
   "outputs": [
    {
     "data": {
      "text/plain": [
       "(116665, 62059, 239)"
      ]
     },
     "execution_count": 415,
     "metadata": {},
     "output_type": "execute_result"
    }
   ],
   "source": [
    "len(tweets), len(users), len(places)"
   ]
  },
  {
   "cell_type": "code",
   "execution_count": 416,
   "id": "d33d657c-4bb5-4391-9470-8861b3b151fe",
   "metadata": {},
   "outputs": [],
   "source": [
    "with open(\"tweets_okt_jan.json\", \"w\") as tweetsFinal:\n",
    "    json.dump(tweets, tweetsFinal, indent=4)\n",
    "    \n",
    "with open(\"users_okt_jan.json\", \"w\") as usersFinal:\n",
    "    json.dump(users, usersFinal, indent=4)\n",
    "    \n",
    "with open(\"places_okt_jan.json\", \"w\") as placesFinal:\n",
    "    json.dump(places, placesFinal, indent=4)"
   ]
  },
  {
   "cell_type": "markdown",
   "id": "160f79e4-5492-46eb-9dff-65f2a3be44a9",
   "metadata": {},
   "source": [
    "Batch 1 -> 1 Okt-30 Nov (Done)\n",
    "\n",
    "Batch 2 -> 1 Des - 28 Jan"
   ]
  },
  {
   "cell_type": "code",
   "execution_count": 14,
   "id": "cfdd289d-9d66-4d9b-80bc-e73f5eea0c5f",
   "metadata": {},
   "outputs": [],
   "source": [
    "tweets_fetch = json.load(open('./data/tweets_okt_jan.json'))\n",
    "users_fetch = json.load(open('./data/users_okt_jan.json'))\n",
    "places_fetch = json.load(open('./data/places_okt_jan.json'))"
   ]
  },
  {
   "cell_type": "code",
   "execution_count": 17,
   "id": "664c8991-b721-4307-8613-3166b3d3193a",
   "metadata": {},
   "outputs": [],
   "source": [
    "tweets_final = list_of_tweets3 + tweets_fetch\n",
    "users_f = lou3_not_dupl + users_fetch\n",
    "places_f = lop3_not_dupl + places_fetch\n",
    "\n",
    "users_final = list({ each['id'] : each for each in users_f }.values())\n",
    "places_final = list({ each['id'] : each for each in places_f }.values())"
   ]
  },
  {
   "cell_type": "code",
   "execution_count": 18,
   "id": "8ababe83-16fd-47d3-a8e3-c1ab9141de5b",
   "metadata": {},
   "outputs": [
    {
     "data": {
      "text/plain": [
       "(93865, 304)"
      ]
     },
     "execution_count": 18,
     "metadata": {},
     "output_type": "execute_result"
    }
   ],
   "source": [
    "len(users_final), len(places_final)"
   ]
  },
  {
   "cell_type": "code",
   "execution_count": 19,
   "id": "0325555d-bd30-4d35-8f7e-dedf81969315",
   "metadata": {},
   "outputs": [],
   "source": [
    "with open(\"./data/tweets_aug_jan.json\", \"w\") as tweetsFinalFix:\n",
    "    json.dump(tweets_final, tweetsFinalFix, indent=4)\n",
    "    \n",
    "with open(\"./data/users_aug_jan.json\", \"w\") as usersFinalFix:\n",
    "    json.dump(users_final, usersFinalFix, indent=4)\n",
    "    \n",
    "with open(\"./data/places_aug_jan.json\", \"w\") as placesFinalFix:\n",
    "    json.dump(places_final, placesFinalFix, indent=4)"
   ]
  },
  {
   "cell_type": "markdown",
   "id": "77706b9e-3453-4c1e-8082-f696c478744a",
   "metadata": {},
   "source": [
    "## Final"
   ]
  },
  {
   "cell_type": "code",
   "execution_count": 25,
   "id": "6edb9d42-10b4-4987-924f-5db034316dd7",
   "metadata": {},
   "outputs": [],
   "source": [
    "tweets_fetch = json.load(open('./data/tweets_aug_jan.json'))\n",
    "users_fetch = json.load(open('./data/users_aug_jan.json'))\n",
    "places_fetch = json.load(open('./data/places_aug_jan.json'))"
   ]
  },
  {
   "cell_type": "code",
   "execution_count": 26,
   "id": "f04eac06-5dc2-4453-81ac-9ba086b0148a",
   "metadata": {},
   "outputs": [],
   "source": [
    "tweetsfebmar = json.load(open('./data/tweets_data_feb23_mar23.json'))\n",
    "usersfebmar = json.load(open('./data/users_data_feb23_mar23.json'))\n",
    "placesfebmar = json.load(open('./data/places_feb23_mar23.json'))\n",
    "tweetsjanjun = json.load(open('./data/tweets_data_jan22_jun22.json'))\n",
    "usersjanjun = json.load(open('./data/users_data_jan22_jun22.json'))\n",
    "placesjanjun = json.load(open('./data/places_data_jan22_jun22.json'))"
   ]
  },
  {
   "cell_type": "code",
   "execution_count": 31,
   "id": "96505944-a141-4f19-939d-a99e4dc22916",
   "metadata": {},
   "outputs": [],
   "source": [
    "tweets_final = tweetsjanjun + tweets_fetch + tweetsfebmar\n",
    "users_f = usersjanjun + users_fetch + usersfebmar\n",
    "places_f = placesjanjun + places_fetch + placesfebmar\n",
    "\n",
    "users_final = list({ each['id'] : each for each in users_f }.values())\n",
    "places_final = list({ each['id'] : each for each in places_f }.values())"
   ]
  },
  {
   "cell_type": "code",
   "execution_count": 38,
   "id": "cc57e01e-f3db-4e68-8630-d2cfd7a3416b",
   "metadata": {},
   "outputs": [],
   "source": [
    "with open(\"./data/tweetsFinalREVISI.json\", \"w\") as tweetsFinalFix:\n",
    "    json.dump(tweets_final, tweetsFinalFix, indent=4)\n",
    "    \n",
    "with open(\"./data/usersFinalREVISI.json\", \"w\") as usersFinalFix:\n",
    "    json.dump(users_final, usersFinalFix, indent=4)\n",
    "    \n",
    "with open(\"./data/placesFinalREVISI.json\", \"w\") as placesFinalFix:\n",
    "    json.dump(places_final, placesFinalFix, indent=4)"
   ]
  },
  {
   "cell_type": "code",
   "execution_count": null,
   "id": "2526257f-8cf3-4c0b-93c4-628a56bf4404",
   "metadata": {},
   "outputs": [],
   "source": []
  }
 ],
 "metadata": {
  "kernelspec": {
   "display_name": "Python 3 (ipykernel)",
   "language": "python",
   "name": "python3"
  },
  "language_info": {
   "codemirror_mode": {
    "name": "ipython",
    "version": 3
   },
   "file_extension": ".py",
   "mimetype": "text/x-python",
   "name": "python",
   "nbconvert_exporter": "python",
   "pygments_lexer": "ipython3",
   "version": "3.9.10"
  }
 },
 "nbformat": 4,
 "nbformat_minor": 5
}
