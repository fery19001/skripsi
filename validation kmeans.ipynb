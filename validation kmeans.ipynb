{
 "cells": [
  {
   "cell_type": "code",
   "execution_count": null,
   "id": "337071a0-7501-40f6-b883-62dbb4d95263",
   "metadata": {},
   "outputs": [],
   "source": [
    "import os\n",
    "import pandas as pd\n",
    "import numpy as np\n",
    "import matplotlib.pyplot as plt\n",
    "import matplotlib.style as style\n",
    "import matplotlib.colors as mcolors\n",
    "import ast\n",
    "import pyLDAvis.gensim_models as gensimvis\n",
    "import pickle \n",
    "import pyLDAvis\n",
    "\n",
    "from pprint import pprint\n",
    "from tqdm import tqdm\n",
    "\n",
    "\n",
    "from collections import Counter\n",
    "from translate import Translator\n",
    "from pysentimiento import create_analyzer\n",
    "from geneticalgorithm2 import geneticalgorithm2 as ga\n",
    "from transformers import AutoTokenizer, AutoModelForSequenceClassification\n",
    "from transformers import pipeline\n",
    "from sklearn.feature_extraction.text import TfidfVectorizer, CountVectorizer\n",
    "from sklearn.preprocessing import normalize\n",
    "from sklearn.cluster import KMeans\n",
    "from sklearn.metrics import silhouette_score\n",
    "from sklearn.metrics.pairwise import cosine_similarity\n",
    "from gensim import corpora, models, similarities\n",
    "from gensim.models import LdaMulticore, CoherenceModel\n",
    "from gensim.utils import ClippedCorpus\n",
    "from nltk.tokenize import word_tokenize\n",
    "from yellowbrick.cluster.elbow import KElbowVisualizer\n",
    "\n",
    "import warnings\n",
    "warnings.filterwarnings(\"ignore\")"
   ]
  },
  {
   "cell_type": "code",
   "execution_count": null,
   "id": "1697d7bf-5e34-4135-b83d-529a74c88f29",
   "metadata": {},
   "outputs": [],
   "source": [
    "unstemmed = pd.read_csv('./data/unstemmed_REVISI.csv')\n",
    "stemmed = pd.read_csv('./data/stemmed_REVISI.csv')\n",
    "ndata = pd.read_csv('./data/data_non_duplicate_tweets_REVISI.csv')"
   ]
  },
  {
   "cell_type": "code",
   "execution_count": null,
   "id": "e604356f-6f66-4be9-b5a6-e728a2f2112d",
   "metadata": {},
   "outputs": [],
   "source": [
    "# def add_hashtag(hashtags):\n",
    "#     return [\"#\" + hashtag for hashtag in ast.literal_eval(hashtags)]\n",
    "\n",
    "def text_with_hashtag(texts, hashtags):\n",
    "    return texts + \" \" + pd.DataFrame([\" \".join(ast.literal_eval(x)) for x in hashtags])[0]"
   ]
  },
  {
   "cell_type": "code",
   "execution_count": null,
   "id": "b47909ed-e061-42f3-aaa1-a21ecf50a845",
   "metadata": {},
   "outputs": [],
   "source": [
    "# stemmed['hashtags_added'] = stemmed.hashtags.apply(add_hashtag)\n",
    "stemmed['hashtags_joined'] = stemmed.hashtags.apply(lambda x: \" \".join(ast.literal_eval(x)))\n",
    "# stemmed['hashtags_count'] = stemmed.hashtags.map(len)\n",
    "\n",
    "# unstemmed['hashtags_added'] = unstemmed.hashtags.apply(add_hashtag)\n",
    "unstemmed['hashtags_joined'] = unstemmed.hashtags.apply(lambda x: \" \".join(ast.literal_eval(x)))\n",
    "# unstemmed['hashtags_count'] = unstemmed.hashtags.map(len)"
   ]
  },
  {
   "cell_type": "code",
   "execution_count": null,
   "id": "34119b9d-6e17-4fd0-be85-c65672699546",
   "metadata": {},
   "outputs": [],
   "source": [
    "unstemmed.dropna(subset=['text'], inplace=True)"
   ]
  },
  {
   "cell_type": "code",
   "execution_count": null,
   "id": "875e046b-646b-4470-8154-246ee0c8c0c7",
   "metadata": {},
   "outputs": [],
   "source": [
    "len(stemmed), len(unstemmed)"
   ]
  },
  {
   "cell_type": "code",
   "execution_count": null,
   "id": "4d581d23-3b07-4309-9585-67185011e54d",
   "metadata": {},
   "outputs": [],
   "source": [
    "# views = stemmed[['text', 'hashtags_joined', 'text_hashtag', 'hashtags_count', 'users.username']]\n",
    "views = pd.DataFrame()\n",
    "views['unstemmed_text'] = unstemmed.text.tolist()\n",
    "views['stemmed_text'] = stemmed.text.tolist()\n",
    "views['created_at'] = unstemmed.created_at.tolist()\n",
    "views['hashtags'] = stemmed.hashtags.tolist()\n",
    "views['users'] = unstemmed['users.username'].tolist()"
   ]
  },
  {
   "cell_type": "markdown",
   "id": "0bbe7f56-ef25-46af-aa0f-453c7a5f803d",
   "metadata": {},
   "source": [
    "# TF-IDF"
   ]
  },
  {
   "cell_type": "code",
   "execution_count": null,
   "id": "416d43c4-3ed3-484c-9a3c-336167612c73",
   "metadata": {},
   "outputs": [],
   "source": [
    "def generate_tfIdf(array):\n",
    "    max_features = len(array)\n",
    "\n",
    "    # calc TF vector\n",
    "    cvect = CountVectorizer(max_features=max_features)\n",
    "    TF_vector = cvect.fit_transform(array)\n",
    "\n",
    "    # normalize TF vector\n",
    "    normalized_TF_vector = normalize(TF_vector, norm='l1', axis=1)\n",
    "\n",
    "    # calc IDF\n",
    "    tfidf = TfidfVectorizer(max_features=max_features, smooth_idf=False)\n",
    "    tfs = tfidf.fit_transform(array)\n",
    "    IDF_vector = tfidf.idf_\n",
    "\n",
    "    # hitung TF x IDF sehingga dihasilkan TFIDF matrix / vector\n",
    "    tfidf_mat = normalized_TF_vector.multiply(IDF_vector).toarray()\n",
    "    \n",
    "    terms = tfidf.get_feature_names_out()\n",
    "\n",
    "    # sum tfidf frequency of each term through documents\n",
    "    sums = tfidf_mat.sum(axis=0)\n",
    "\n",
    "    # connecting term to its sums frequency\n",
    "    data = []\n",
    "    for col, term in enumerate(terms):\n",
    "        data.append((term, np.round(sums[col]) ))\n",
    "\n",
    "    ranking = pd.DataFrame(data, columns=['term','rank'])\n",
    "    ranking.sort_values('rank', ascending=False, inplace=True)\n",
    "    ranking.reset_index(drop=True, inplace=True)\n",
    "    \n",
    "    return tfs, terms, tfidf, tfidf_mat, ranking"
   ]
  },
  {
   "cell_type": "code",
   "execution_count": null,
   "id": "a5599588-97ae-4c58-a1bc-e53943856f5c",
   "metadata": {},
   "outputs": [],
   "source": [
    "unstemmed_text_tfs, unstemmed_text_terms, unstemmed_text_tfidf, unstemmed_text_tfidf_mat, unstemmed_text_ranking = generate_tfIdf(list(views.unstemmed_text))"
   ]
  },
  {
   "cell_type": "code",
   "execution_count": null,
   "id": "6ca18f0a-09a4-4c31-91fd-efdcb5cff10b",
   "metadata": {},
   "outputs": [],
   "source": [
    "stemmed_text_tfs, stemmed_text_terms, stemmed_text_tfidf, stemmed_text_tfidf_mat, stemmed_text_ranking = generate_tfIdf(list(views.stemmed_text))"
   ]
  },
  {
   "cell_type": "code",
   "execution_count": null,
   "id": "10948267-1521-4957-afaf-32e05d117e86",
   "metadata": {},
   "outputs": [],
   "source": [
    "hashtag_tfs, hashtag_terms, hashtag_tfidf, hashtag_tfidf_mat, hashtag_ranking = generate_tfIdf(list(views.hashtags))"
   ]
  },
  {
   "cell_type": "code",
   "execution_count": null,
   "id": "d7107a5b-e9d5-4248-a5a5-255d80508f44",
   "metadata": {},
   "outputs": [],
   "source": [
    "stemmed_text_dist = 1 - cosine_similarity(stemmed_text_tfidf_mat)"
   ]
  },
  {
   "cell_type": "code",
   "execution_count": null,
   "id": "126a9941-f3f3-4239-b0f4-9f1e1807df87",
   "metadata": {},
   "outputs": [],
   "source": [
    "unstemmed_text_dist = 1 - cosine_similarity(unstemmed_text_tfidf_mat)"
   ]
  },
  {
   "cell_type": "code",
   "execution_count": null,
   "id": "9b8737ea-dc1b-4ffc-8f38-fbe7a847a1b6",
   "metadata": {},
   "outputs": [],
   "source": [
    "hastag_dist = 1 - cosine_similarity(hashtag_tfidf_mat)"
   ]
  },
  {
   "cell_type": "markdown",
   "id": "2a5cf607-2430-455f-a77e-0d6ba4d2ef64",
   "metadata": {},
   "source": [
    "##### TF-IDF for Hashtags"
   ]
  },
  {
   "cell_type": "code",
   "execution_count": null,
   "id": "c39ac2e3-9cf4-4381-a638-27876f150edc",
   "metadata": {},
   "outputs": [],
   "source": [
    "# small sample\n",
    "\n",
    "# TODO https://smyachenkov.com/posts/categorizing-instagram-tags-with-k-means/"
   ]
  },
  {
   "cell_type": "markdown",
   "id": "a3d72495-f9dd-432a-b083-a6a950dc1e1b",
   "metadata": {},
   "source": [
    "##### Hashtags with the most appearances"
   ]
  },
  {
   "cell_type": "code",
   "execution_count": null,
   "id": "f5170efe-9371-4c25-9b27-56fb16e2386b",
   "metadata": {
    "scrolled": true,
    "tags": []
   },
   "outputs": [],
   "source": [
    "hashtag_ranking[:50]"
   ]
  },
  {
   "cell_type": "markdown",
   "id": "321af2f6-983a-4e76-97a1-714489e87dec",
   "metadata": {},
   "source": [
    "# Hashtags K-Means Clustering"
   ]
  },
  {
   "cell_type": "code",
   "execution_count": null,
   "id": "094c9f46-3ec0-4532-8631-2a241f4cd5b0",
   "metadata": {},
   "outputs": [],
   "source": [
    "# elbow method to define cluster"
   ]
  },
  {
   "cell_type": "code",
   "execution_count": null,
   "id": "454aaac1-dfdc-42b6-b454-9480cf3bf650",
   "metadata": {},
   "outputs": [],
   "source": [
    "tfs2 = hashtag_tfs.copy()\n",
    "valData = pd.DataFrame(hashtag_tfs.copy().toarray())"
   ]
  },
  {
   "cell_type": "code",
   "execution_count": null,
   "id": "3cff0781-844d-441f-a210-0f43c866b792",
   "metadata": {},
   "outputs": [],
   "source": [
    "kmeans_model = KMeans(3, random_state=123, n_init=1, init='k-means++', verbose=True, max_iter=5).fit(tfs2)\n",
    "labels = kmeans_model.labels_\n",
    "labels = labels.tolist()\n",
    "valData['cluster'] = labels\n",
    "valData.columns = valData.columns.astype(str)"
   ]
  },
  {
   "cell_type": "code",
   "execution_count": null,
   "id": "d60625d1-bb71-45f6-a3ef-2128b3d3d2ee",
   "metadata": {},
   "outputs": [],
   "source": [
    "from sklearn.model_selection import train_test_split"
   ]
  },
  {
   "cell_type": "code",
   "execution_count": null,
   "id": "3671e32e-eb34-4481-a4f2-8f3c252f2a96",
   "metadata": {},
   "outputs": [],
   "source": [
    "X_train, X_test, y_train, y_test = train_test_split(valData.drop(\"cluster\", axis=1), valData[\"cluster\"], test_size=0.05, random_state=47)"
   ]
  },
  {
   "cell_type": "code",
   "execution_count": null,
   "id": "c651fadd-7a34-48c1-99f2-7d97b7bf5fe6",
   "metadata": {},
   "outputs": [],
   "source": [
    "y_train.value_counts()"
   ]
  },
  {
   "cell_type": "code",
   "execution_count": null,
   "id": "b3323e72-02cb-4d19-aa50-8712c1b8daa2",
   "metadata": {
    "scrolled": true,
    "tags": []
   },
   "outputs": [],
   "source": [
    "from sklearn.neighbors import NearestNeighbors\n",
    "\n",
    "neigh = NearestNeighbors(n_neighbors=2, metric='euclidean')\n",
    "neigh.fit(valData.drop(\"cluster\",axis=1))\n",
    "\n",
    "valDataFeature = valData.drop(\"cluster\",axis=1)\n",
    "valData[\"id\"] = [i for i in range(valData.shape[0])]\n",
    "\n",
    "indexList=[neigh.kneighbors(valDataFeature[valDataFeature.index.isin([index])])[1][0][1] for index in X_test.index]\n",
    "P=[valData[valData[\"id\"]==indx][\"cluster\"].values[0] for indx in indexList]\n",
    "\n",
    "results = pd.DataFrame(list(zip(labels, P)),\n",
    "               columns =['Predicted_S', 'True_P'])"
   ]
  },
  {
   "cell_type": "code",
   "execution_count": null,
   "id": "4aa49b06-b604-435f-b98e-db1039445cc9",
   "metadata": {},
   "outputs": [],
   "source": [
    "from sklearn import metrics\n",
    "import seaborn as sns"
   ]
  },
  {
   "cell_type": "code",
   "execution_count": null,
   "id": "653c3b0b-e683-4d26-a23a-a49574037309",
   "metadata": {},
   "outputs": [],
   "source": [
    "metrics.accuracy_score(results[\"True_P\"].values, results[\"Predicted_S\"].values)"
   ]
  },
  {
   "cell_type": "code",
   "execution_count": null,
   "id": "0344ccfb-f6dd-4761-8965-fc0594625f83",
   "metadata": {
    "scrolled": true,
    "tags": []
   },
   "outputs": [],
   "source": [
    "results['Predicted_S'].value_counts()"
   ]
  },
  {
   "cell_type": "code",
   "execution_count": null,
   "id": "f830a486-c4ba-4818-8c81-05d0247c9ea4",
   "metadata": {},
   "outputs": [],
   "source": [
    "print(metrics.classification_report(results[\"True_P\"].values, results[\"Predicted_S\"].values))\n",
    "cm = metrics.confusion_matrix(results[\"True_P\"].values, results[\"Predicted_S\"].values)\n",
    "plt.figure(figsize=(14,10))\n",
    "sns.heatmap(cm, annot=True)"
   ]
  },
  {
   "cell_type": "code",
   "execution_count": null,
   "id": "1fb52ab8-f317-427b-9883-7179404eafac",
   "metadata": {},
   "outputs": [],
   "source": [
    "num_cluster_hashtag = 3\n",
    "km_hashtag = KMeans(num_cluster_hashtag, random_state=123, n_init=1, init='k-means++', verbose=True, max_iter=5)\n",
    "km_hashtag.fit(hashtag_tfs)\n",
    "y_km = km_hashtag.predict(hashtag_tfs)"
   ]
  },
  {
   "cell_type": "code",
   "execution_count": null,
   "id": "c813639d-c3ca-4f4c-a1fd-1255a472f609",
   "metadata": {},
   "outputs": [],
   "source": [
    "hashtag_clusters = km_hashtag.labels_.tolist()"
   ]
  },
  {
   "cell_type": "code",
   "execution_count": null,
   "id": "1543df4e-3688-406e-9638-09776dc5605c",
   "metadata": {},
   "outputs": [],
   "source": [
    "views['hashtag_clusters'] = hashtag_clusters"
   ]
  },
  {
   "cell_type": "code",
   "execution_count": null,
   "id": "49376b6a-6e72-4487-9273-1c68ce3a54ec",
   "metadata": {},
   "outputs": [],
   "source": [
    "hashtag_feature_name = hashtag_tfidf.get_feature_names_out()\n",
    "hashtag_top_features = 30\n",
    "hashtag_ordered_centroid = km_hashtag.cluster_centers_.argsort()[:,::-1]\n",
    "\n",
    "hashtag_clusters = []\n",
    "hashtag_key_features = []\n",
    "final_hashtags = []\n",
    "for cluster in range(num_cluster_hashtag):\n",
    "    hashtag_key_feature = [hashtag_feature_name[index] for index in hashtag_ordered_centroid[cluster,:hashtag_top_features]]\n",
    "    hashtag_cluster = views[views['hashtag_clusters']==cluster]['hashtags'].values.tolist()\n",
    "    hashtag_clusters.append(str(cluster+1))\n",
    "    hashtag_key_features.append(hashtag_key_feature)\n",
    "    final_hashtags.append(hashtag_cluster)"
   ]
  },
  {
   "cell_type": "code",
   "execution_count": null,
   "id": "9689c2c3-c590-4dea-a95e-b08e998e12c7",
   "metadata": {},
   "outputs": [],
   "source": [
    "final_hashtags_count = [len(ht) for ht in final_hashtags] \n",
    "final_hashtags_clusters = []\n",
    "final_hashtags_key_features = []\n",
    "for x, cluster in enumerate(hashtag_clusters):\n",
    "    for count in range(final_hashtags_count[x]):\n",
    "        final_hashtags_clusters.append(cluster)\n",
    "for y, key in enumerate(hashtag_key_features):\n",
    "    for count in range(final_hashtags_count[y]):\n",
    "        final_hashtags_key_features.append(key)\n",
    "final_hashtags_1 = []\n",
    "for hashtag in final_hashtags:\n",
    "    for ht in hashtag:\n",
    "        final_hashtags_1.append(ht)"
   ]
  },
  {
   "cell_type": "code",
   "execution_count": null,
   "id": "835f7100-4192-44da-9d7e-7b8586832820",
   "metadata": {},
   "outputs": [],
   "source": [
    "print(\"Tweets count each cluster: \\n\")\n",
    "for i in range(len(hashtag_clusters)):\n",
    "    print(f\"Cluster {i+1}: {final_hashtags_count[i]}\") "
   ]
  },
  {
   "cell_type": "code",
   "execution_count": null,
   "id": "cdcf7478-9133-4165-9625-bbdaeff3d99f",
   "metadata": {},
   "outputs": [],
   "source": [
    "results = pd.DataFrame([final_hashtags_clusters, final_hashtags_key_features, final_hashtags_1]).T"
   ]
  },
  {
   "cell_type": "code",
   "execution_count": null,
   "id": "c3505f2a-348b-47d9-9e9a-87b1f97e2365",
   "metadata": {},
   "outputs": [],
   "source": [
    "results.columns = ['cluster', 'key_features', 'hashtag']"
   ]
  },
  {
   "cell_type": "code",
   "execution_count": null,
   "id": "81f49063-d8c7-4a54-97be-dfa19e8a4928",
   "metadata": {},
   "outputs": [],
   "source": [
    "results.key_features.apply(str).unique()"
   ]
  },
  {
   "cell_type": "code",
   "execution_count": null,
   "id": "e9137fde-1311-41aa-9f74-742090f78611",
   "metadata": {},
   "outputs": [],
   "source": [
    "results_2 = [ast.literal_eval(tr2) for tr2 in results.key_features.apply(str).unique().tolist()]"
   ]
  },
  {
   "cell_type": "code",
   "execution_count": null,
   "id": "d41e4e80-6a27-48cd-8e3e-da61bf767f9d",
   "metadata": {},
   "outputs": [],
   "source": [
    "# results_2[1].pop(1)\n",
    "# results_2[3].pop(0)\n",
    "# results_2[3].pop(1)"
   ]
  },
  {
   "cell_type": "code",
   "execution_count": null,
   "id": "3456a2e3-e986-4bb0-8147-6a213525e62c",
   "metadata": {},
   "outputs": [],
   "source": [
    "for i, c in enumerate([\" \".join(joined) for joined in results_2]):\n",
    "    print(f\"Cluster {i+1}: {c}\")"
   ]
  }
 ],
 "metadata": {
  "kernelspec": {
   "display_name": "Python 3 (ipykernel)",
   "language": "python",
   "name": "python3"
  },
  "language_info": {
   "codemirror_mode": {
    "name": "ipython",
    "version": 3
   },
   "file_extension": ".py",
   "mimetype": "text/x-python",
   "name": "python",
   "nbconvert_exporter": "python",
   "pygments_lexer": "ipython3",
   "version": "3.9.10"
  }
 },
 "nbformat": 4,
 "nbformat_minor": 5
}
