{
 "cells": [
  {
   "cell_type": "code",
   "execution_count": 1,
   "id": "efc70077-9b53-42f2-8c99-e734a15c7617",
   "metadata": {},
   "outputs": [],
   "source": [
    "import pandas as pd\n",
    "import json\n",
    "from tqdm import tqdm"
   ]
  },
  {
   "cell_type": "code",
   "execution_count": 2,
   "id": "ec06a2ca-034f-46c8-b40b-669955bd1aa3",
   "metadata": {},
   "outputs": [],
   "source": [
    "tweets = json.load(open('./data/tweetsFinalREVISI.json'))\n",
    "users = json.load(open('./data/usersFinalREVISI.json'))\n",
    "places = json.load(open('./data/placesFinalREVISI.json'))"
   ]
  },
  {
   "cell_type": "code",
   "execution_count": 3,
   "id": "ce00cbc9-65fe-46dc-9537-1caef931d4b1",
   "metadata": {},
   "outputs": [
    {
     "name": "stdout",
     "output_type": "stream",
     "text": [
      "Tweets count: 312463\n",
      "Users count: 145428\n",
      "Places count: 398\n"
     ]
    }
   ],
   "source": [
    "print(f'Tweets count: {len(tweets)}\\nUsers count: {len(users)}\\nPlaces count: {len(places)}')"
   ]
  },
  {
   "cell_type": "code",
   "execution_count": 4,
   "id": "0b996b8f-898a-4a37-b7d0-904bae61d5f7",
   "metadata": {},
   "outputs": [],
   "source": [
    "def getUserDetails(tweet, users):\n",
    "    tweet_author = str(tweet['author_id'])\n",
    "    \n",
    "    for user in users:\n",
    "        user_values = str(user.get('id'))\n",
    "        \n",
    "        if tweet_author == user_values:\n",
    "            return user\n",
    "        else:\n",
    "            continue\n",
    "            \n",
    "    return None\n",
    "\n",
    "def getPlaceDetails(tweet, places):\n",
    "    tweet_place_id = str(tweet['geo']['place_id'])\n",
    "    \n",
    "    for place in places:\n",
    "        place_values = str(place.get('id'))\n",
    "                \n",
    "        if tweet_place_id == place_values:\n",
    "            return place\n",
    "        else:\n",
    "            continue\n",
    "            \n",
    "    return None"
   ]
  },
  {
   "cell_type": "code",
   "execution_count": 5,
   "id": "08eb3484-8176-4105-b788-23fd97f22761",
   "metadata": {},
   "outputs": [],
   "source": [
    "def getPlaceData(tweet, places):\n",
    "    \n",
    "    if 'geo' in tweet:\n",
    "        if 'place_id' in tweet['geo']:\n",
    "            placeDetails = getPlaceDetails(tweet, places)\n",
    "            if placeDetails != None:\n",
    "                return {\n",
    "                    'name': placeDetails['full_name'],\n",
    "                    'place_type': placeDetails['place_type'],\n",
    "                    'country': placeDetails['country'],\n",
    "                    'country_code': placeDetails['country_code'] \n",
    "                }\n",
    "            else:\n",
    "                return {\n",
    "                    'name': None,\n",
    "                    'place_type': None,\n",
    "                    'country': None,\n",
    "                    'country_code': None  \n",
    "                }\n",
    "    else:\n",
    "        return {\n",
    "            'name': None,\n",
    "            'place_type': None,\n",
    "            'country': None,\n",
    "            'country_code': None  \n",
    "        }\n",
    "                    \n",
    "def getUserData(tweet, users):\n",
    "    \n",
    "    userDetails = getUserDetails(tweet, users)\n",
    "    \n",
    "    if userDetails != None:\n",
    "        if 'location' in userDetails:\n",
    "            location = userDetails['location']\n",
    "        else:\n",
    "            location = None\n",
    "\n",
    "        return {\n",
    "            'username': userDetails['username'],\n",
    "            'following': userDetails['public_metrics']['following_count'],\n",
    "            'tweets': userDetails['public_metrics']['tweet_count'],\n",
    "            'location': location,\n",
    "            'verified': userDetails['verified']\n",
    "        }\n",
    "    \n",
    "    else:\n",
    "        return {\n",
    "            'username': None,\n",
    "            'following': None,\n",
    "            'tweets': None,\n",
    "            'location': None,\n",
    "            'verified': None\n",
    "        }\n",
    "\n",
    "def getHashtags(tweet):\n",
    "    \n",
    "    if 'entities' in tweet:\n",
    "        if 'hashtags' in tweet['entities']:\n",
    "            hashtags = []\n",
    "            if len(tweet['entities']['hashtags']) >= 1:\n",
    "                for hashtag in tweet['entities']['hashtags']:\n",
    "                    hashtags.append(hashtag['tag'])\n",
    "                    \n",
    "            return hashtags\n",
    "    \n",
    "    else:\n",
    "        return None\n",
    "\n",
    "def getReferencedTweets(tweet):\n",
    "    if 'referenced_tweets' in tweet:\n",
    "        if len(tweet['referenced_tweets']) >= 1:\n",
    "            reference_type = []\n",
    "               \n",
    "            for reference_tweet in tweet['referenced_tweets']:\n",
    "                reference_type.append(reference_tweet['type'])\n",
    "            \n",
    "        return reference_type\n",
    "    \n",
    "    else:\n",
    "        return None\n",
    "    \n",
    "def getMentions(tweet):\n",
    "    if 'entities' in tweet:\n",
    "        if 'mentions' in tweet['entities']:\n",
    "            if len(tweet['entities']['mentions']) >= 1:\n",
    "                mentions = []\n",
    "                \n",
    "                for mention in tweet['entities']['mentions']:\n",
    "                    mentions.append(mention['username'])\n",
    "                \n",
    "            return mentions\n",
    "        \n",
    "        else:\n",
    "            return None\n",
    "    else:\n",
    "        return None\n",
    "        \n",
    "def getUrlTitle(tweet):\n",
    "    if 'entities' in tweet:\n",
    "        if 'urls' in tweet['entities']:\n",
    "            if len(tweet['entities']['urls']) >= 1:\n",
    "                urlTitles = []\n",
    "                \n",
    "                for url in tweet['entities']['urls']:\n",
    "                    if 'title' in url:\n",
    "                        urlTitles.append(url['title'])\n",
    "                \n",
    "                return urlTitles\n",
    "        \n",
    "        else:\n",
    "            return None\n",
    "    \n",
    "    else:\n",
    "        return None"
   ]
  },
  {
   "cell_type": "code",
   "execution_count": 6,
   "id": "9cf7c400-d934-47df-b172-f8cb9ab0e1a4",
   "metadata": {},
   "outputs": [],
   "source": [
    "def generateTemp():\n",
    "    return {\n",
    "        'text': None,\n",
    "        'hashtags': [],\n",
    "        'users': {\n",
    "            'username': None,\n",
    "            'following': None,\n",
    "            'tweets': None,\n",
    "            'location': None,\n",
    "            'verified': None,\n",
    "        },\n",
    "        'created_at': None,\n",
    "        'metrics': {\n",
    "            'retweets': None,\n",
    "            'replies': None,\n",
    "            'quotes': None,\n",
    "            'impressions': None,\n",
    "        },\n",
    "        'entities': {\n",
    "            'mentions': [],\n",
    "            'url title': []\n",
    "        },\n",
    "        'reference_type': None,\n",
    "        'lang': None,\n",
    "        'places': {\n",
    "            'name': None,\n",
    "            'place_type': None,\n",
    "            'country': None,\n",
    "            'country_code': None\n",
    "        }\n",
    "    }"
   ]
  },
  {
   "cell_type": "code",
   "execution_count": 7,
   "id": "44db3c17-b6c3-43b0-ae2e-487bbac4d1e6",
   "metadata": {},
   "outputs": [],
   "source": [
    "data = []"
   ]
  },
  {
   "cell_type": "code",
   "execution_count": 8,
   "id": "73f2da04-dd57-40b4-b34c-fd653079d6df",
   "metadata": {
    "scrolled": true,
    "tags": []
   },
   "outputs": [
    {
     "name": "stderr",
     "output_type": "stream",
     "text": [
      "100%|████████████████████████████████████████████████████████████████████████| 312463/312463 [3:54:37<00:00, 22.20it/s]\n"
     ]
    }
   ],
   "source": [
    "for tweet in tqdm(tweets):\n",
    "    \n",
    "    temp = generateTemp()\n",
    "                \n",
    "    temp.update({\n",
    "        'text': tweet['text'],\n",
    "        'hashtags': getHashtags(tweet),\n",
    "        'users': {\n",
    "            'username': getUserData(tweet, users)['username'],\n",
    "            'following': getUserData(tweet, users)['following'],\n",
    "            'tweets': getUserData(tweet, users)['tweets'],\n",
    "            'location': getUserData(tweet, users)['location'],\n",
    "            'verified': getUserData(tweet, users)['verified'],\n",
    "        },\n",
    "        'created_at': tweet['created_at'],\n",
    "        'metrics': {\n",
    "            'retweets': tweet['public_metrics']['retweet_count'],\n",
    "            'replies': tweet['public_metrics']['reply_count'],\n",
    "            'quotes': tweet['public_metrics']['quote_count'],\n",
    "            'impressions': tweet['public_metrics']['impression_count'],\n",
    "        },\n",
    "        'entities': {\n",
    "            'mentions': getMentions(tweet),\n",
    "            'url title': getUrlTitle(tweet)\n",
    "        },\n",
    "        'reference_type': getReferencedTweets(tweet),\n",
    "        'lang': tweet['lang'],\n",
    "        'places': {\n",
    "            'name': getPlaceData(tweet, places)['name'],\n",
    "            'place_type': getPlaceData(tweet, places)['place_type'],\n",
    "            'country': getPlaceData(tweet, places)['country'],\n",
    "            'country_code': getPlaceData(tweet, places)['country_code']\n",
    "        }\n",
    "    })\n",
    "        \n",
    "    data.append(temp)"
   ]
  },
  {
   "cell_type": "code",
   "execution_count": 9,
   "id": "2ce1f582-d746-460b-946f-710bd571b04c",
   "metadata": {},
   "outputs": [
    {
     "name": "stdout",
     "output_type": "stream",
     "text": [
      "Tweets count: 312463\n",
      "Users count: 145428\n",
      "Places count: 398\n",
      "-------------------------\n",
      "Final data count: 312463\n"
     ]
    }
   ],
   "source": [
    "print(f'Tweets count: {len(tweets)}\\nUsers count: {len(users)}\\nPlaces count: {len(places)}\\n-------------------------\\nFinal data count: {len(data)}')"
   ]
  },
  {
   "cell_type": "code",
   "execution_count": 10,
   "id": "a0f601ee-ed39-4db4-89e8-2b1454da1caf",
   "metadata": {},
   "outputs": [],
   "source": [
    "with open(\"./data/finalDataFixREVISI.json\", \"w\") as dataFinal:\n",
    "    json.dump(data, dataFinal, indent=4)"
   ]
  },
  {
   "cell_type": "code",
   "execution_count": null,
   "id": "7f11b544-5723-4292-b3ca-70033771bfc2",
   "metadata": {},
   "outputs": [],
   "source": []
  }
 ],
 "metadata": {
  "kernelspec": {
   "display_name": "Python 3 (ipykernel)",
   "language": "python",
   "name": "python3"
  },
  "language_info": {
   "codemirror_mode": {
    "name": "ipython",
    "version": 3
   },
   "file_extension": ".py",
   "mimetype": "text/x-python",
   "name": "python",
   "nbconvert_exporter": "python",
   "pygments_lexer": "ipython3",
   "version": "3.9.10"
  }
 },
 "nbformat": 4,
 "nbformat_minor": 5
}
